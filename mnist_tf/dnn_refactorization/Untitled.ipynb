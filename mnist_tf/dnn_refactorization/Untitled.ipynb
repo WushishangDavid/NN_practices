{
 "cells": [
  {
   "cell_type": "code",
   "execution_count": 1,
   "metadata": {
    "collapsed": true
   },
   "outputs": [],
   "source": [
    "import tensorflow as tf\n",
    "\n",
    "INPUT_SIZE = 100\n",
    "OUTPUT_SIZE = 10\n",
    "LAYER_NODE = 100\n",
    "\n",
    "def get_weight_variabble(shape, regularizer):\n",
    "    weights = tf.get_variable(\"weights\", shape, initializer=tf.truncated_normal_initializer(stddev=.1))\n",
    "    if(regularizer != None):\n",
    "       tf.add_to_collection('losses', regularizer(weights))\n",
    "    return weights\n",
    "\n",
    "def inference(x, regularizer):\n",
    "    with tf.variable.scope('layer1'):\n",
    "        W = get_weight_variabble([INPUT_SIZE, LAYER_NODE], regularizer)\n",
    "        b = tf.get_variable(\"biases\", [LAYER_NODE], initializer=tf.constant_initializer(0.0))\n",
    "        layer1 = tf.nn.relu(tf.matmul(x,W)+b)\n",
    "        \n",
    "    with tf.variable.scope('layer2'):\n",
    "        W = get_weight_variabble([LAYER_NODE, OUTPUT_SIZE], regularizer)\n",
    "        b = tf.get_variable(\"biases\", [OUTPUT_SIZE], initializer=tf.constant_initializer(0.0))\n",
    "        layer2 = tf.nn.relu(tf.matmul(layer1,W)+b)\n",
    "        \n",
    "    return layer2"
   ]
  },
  {
   "cell_type": "code",
   "execution_count": null,
   "metadata": {
    "collapsed": true
   },
   "outputs": [],
   "source": []
  }
 ],
 "metadata": {
  "kernelspec": {
   "display_name": "Python [conda env:learn]",
   "language": "python",
   "name": "conda-env-learn-py"
  },
  "language_info": {
   "codemirror_mode": {
    "name": "ipython",
    "version": 3
   },
   "file_extension": ".py",
   "mimetype": "text/x-python",
   "name": "python",
   "nbconvert_exporter": "python",
   "pygments_lexer": "ipython3",
   "version": "3.6.1"
  }
 },
 "nbformat": 4,
 "nbformat_minor": 2
}
